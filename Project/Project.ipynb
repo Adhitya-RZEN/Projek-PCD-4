{
 "cells": [
  {
   "cell_type": "markdown",
   "id": "e4166927",
   "metadata": {},
   "source": [
    "<div style=\"text-align:center\">\n",
    "    <h1><b>KLASIFIKASI IKAN SEHAT DENGAN IKAN TERINFEKSI PENYAKIT BERDASARKAN CITRA KULITNYA</b></h1>\n",
    "    <h1><b></b></h1>\n",
    "</div>\n",
    "<br><br>\n",
    "<br><br>\n",
    "<table style=\"width:100%;\">\n",
    "    <tr>\n",
    "        <td align=\"center\">\n",
    "            <img src=\"Dataset/UNRAM-LOGO.png\" alt=\"Foto\" width=\"500\" height=\"500\">\n",
    "        </td>\n",
    "    </tr>\n",
    "</table>\n",
    "<br><br>\n",
    "<br><br>\n",
    "<div style=\"text-align:center\">\n",
    "    <h2>Disusun Oleh:</h2>\n",
    "    <h2>MUHAMMAD ADHITYA NUGRAHA: F1D02310016</h2>\n",
    "    <h2>MUHAMMAD RIDHO AIDIL FURQON: F1D02310127</h2>\n",
    "    <h2>IRFAN JAYADI: F1D02310011<h2>\n",
    "    <h2>MUHAMMAD FARUK WIRA PRABUANA JAMALUDIN: F1D02310147</h2>\n",
    "</div>\n",
    "<br><br><br><br>\n",
    "<br><br><br><br>\n",
    "<div style=\"text-align:center\">\n",
    "    <h2>UNIVERSITAS MATARAM</h2>\n",
    "    <h2>FAKULTAS TEKNIK</h2>\n",
    "    <h2>TEKNIK INFORMATIKA</h2>\n",
    "    <h2>2024/2025</h2>\n",
    "</div>\n",
    "<br><br><br><br>\n",
    "<br><br><br><br>\n",
    "<br><br><br><br>\n",
    "<br><br><br><br>\n"
   ]
  },
  {
   "cell_type": "markdown",
   "id": "c7ca05c6",
   "metadata": {},
   "source": [
    "## Latar Belakang\n"
   ]
  },
  {
   "cell_type": "code",
   "execution_count": null,
   "id": "989426ea",
   "metadata": {},
   "outputs": [],
   "source": [
    "# Import library yang kalian butuhkan\n",
    "import os\n",
    "import cv2 as cv\n",
    "import matplotlib.pyplot as plt\n",
    "import numpy as np\n",
    "import pandas as pd\n",
    "from sklearn.model_selection import train_test_split, cross_val_predict\n",
    "from sklearn.metrics import accuracy_score, classification_report\n",
    "from skimage.feature import graycomatrix, graycoprops\n",
    "from scipy.stats import entropy\n",
    "from sklearn.ensemble import RandomForestClassifier\n",
    "from sklearn.svm import SVC\n",
    "from sklearn.neighbors import KNeighborsClassifier\n",
    "from sklearn.metrics import accuracy_score, precision_score, recall_score, f1_score, confusion_matrix, classification_report\n",
    "from sklearn.metrics import (confusion_matrix, ConfusionMatrixDisplay)\n",
    "import seaborn as sns"
   ]
  },
  {
   "cell_type": "code",
   "execution_count": null,
   "id": "81e38276",
   "metadata": {},
   "outputs": [],
   "source": [
    "data = []\n",
    "labels = []\n",
    "file_name = []\n",
    "for sub_folder in os.listdir(\"dataset\\\\\"):\n",
    "    sub_folder_files = os.listdir(os.path.join(\"dataset\\\\\", sub_folder))\n",
    "    for i, filename in enumerate(sub_folder_files):\n",
    "        img_path = os.path.join(\"dataset\\\\\", sub_folder, filename)\n",
    "        img = cv.imread(img_path)\n",
    "        img = img.astype(np.uint8)\n",
    "        img = cv.cvtColor(img, cv.COLOR_BGR2GRAY)\n",
    "        \n",
    "        data.append(img)\n",
    "        labels.append(sub_folder)\n",
    "        name = os.path.splitext(filename)[0]\n",
    "        file_name.append(filename)\n",
    "        \n",
    "data = np.array(data)\n",
    "labels = np.array(labels)"
   ]
  },
  {
   "cell_type": "code",
   "execution_count": null,
   "id": "05c6d7df",
   "metadata": {},
   "outputs": [],
   "source": [
    "# melakukan augmentasi data\n",
    "data_augmented = []\n",
    "labels_augmented = []\n",
    "paths_augmented = []\n",
    "file_name_augmented = []\n",
    "for i in range(len(data)):\n",
    "\tpass\n",
    "print(\"Data sebelum augmentasi: \", len(data))\n",
    "print(\"Data setelah augmentasi: \", len(data_augmented))"
   ]
  },
  {
   "cell_type": "code",
   "execution_count": null,
   "id": "10f56604",
   "metadata": {},
   "outputs": [],
   "source": [
    "def resize(image, target_size):\n",
    "    pass\n",
    "\n",
    "def prepro1():\n",
    "    pass\n",
    "\n",
    "def prepro2():\n",
    "    pass\n",
    "\n",
    "def prepro3():\n",
    "    pass"
   ]
  },
  {
   "cell_type": "code",
   "execution_count": null,
   "id": "de701b11",
   "metadata": {},
   "outputs": [],
   "source": []
  }
 ],
 "metadata": {
  "language_info": {
   "name": "python"
  }
 },
 "nbformat": 4,
 "nbformat_minor": 5
}
