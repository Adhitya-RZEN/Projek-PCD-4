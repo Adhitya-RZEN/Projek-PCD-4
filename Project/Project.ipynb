{
 "cells": [
  {
   "cell_type": "markdown",
   "id": "e4166927",
   "metadata": {},
   "source": [
    "<div style=\"text-align:center\">\n",
    "    <h1><b>KLASIFIKASI IKAN SEHAT DENGAN IKAN TERINFEKSI PENYAKIT BERDASARKAN CITRA KULITNYA</b></h1>\n",
    "    <h1><b></b></h1>\n",
    "</div>\n",
    "<br><br>\n",
    "<br><br>\n",
    "<table style=\"width:100%;\">\n",
    "    <tr>\n",
    "        <td align=\"center\">\n",
    "            <img src=\"Dataset/UNRAM-LOGO.png\" alt=\"Foto\" width=\"500\" height=\"500\">\n",
    "        </td>\n",
    "    </tr>\n",
    "</table>\n",
    "<br><br>\n",
    "<br><br>\n",
    "<div style=\"text-align:center\">\n",
    "    <h2>Disusun Oleh:</h2>\n",
    "    <h2>MUHAMMAD ADHITYA NUGRAHA: F1D02310016</h2>\n",
    "    <h2>MUHAMMAD RIDHO AIDIL FURQON: F1D02310127</h2>\n",
    "    <h2>IRFAN JAYADI: F1D02310011<h2>\n",
    "    <h2>MUHAMMAD FARUK WIRA PRABUANA JAMALUDIN: F1D02310147</h2>\n",
    "</div>\n",
    "<br><br><br><br>\n",
    "<br><br><br><br>\n",
    "<div style=\"text-align:center\">\n",
    "    <h2>UNIVERSITAS MATARAM</h2>\n",
    "    <h2>FAKULTAS TEKNIK</h2>\n",
    "    <h2>TEKNIK INFORMATIKA</h2>\n",
    "    <h2>2024/2025</h2>\n",
    "</div>\n",
    "<br><br><br><br>\n",
    "<br><br><br><br>\n",
    "<br><br><br><br>\n",
    "<br><br><br><br>\n"
   ]
  },
  {
   "cell_type": "markdown",
   "id": "c7ca05c6",
   "metadata": {},
   "source": [
    "## Latar Belakang\n"
   ]
  },
  {
   "cell_type": "code",
   "execution_count": null,
   "id": "989426ea",
   "metadata": {},
   "outputs": [],
   "source": [
    "# Import library yang kalian butuhkan\n",
    "import os\n",
    "import cv2 as cv\n",
    "import matplotlib.pyplot as plt\n",
    "import numpy as np\n",
    "import pandas as pd\n",
    "from sklearn.model_selection import train_test_split, cross_val_predict\n",
    "from sklearn.metrics import accuracy_score, classification_report\n",
    "from skimage.feature import graycomatrix, graycoprops\n",
    "from scipy.stats import entropy\n",
    "from sklearn.ensemble import RandomForestClassifier\n",
    "from sklearn.svm import SVC\n",
    "from sklearn.neighbors import KNeighborsClassifier\n",
    "from sklearn.metrics import accuracy_score, precision_score, recall_score, f1_score, confusion_matrix, classification_report\n",
    "from sklearn.metrics import (confusion_matrix, ConfusionMatrixDisplay)\n",
    "import seaborn as sns"
   ]
  },
  {
   "cell_type": "code",
   "execution_count": null,
   "id": "81e38276",
   "metadata": {},
   "outputs": [],
   "source": []
  }
 ],
 "metadata": {
  "language_info": {
   "name": "python"
  }
 },
 "nbformat": 4,
 "nbformat_minor": 5
}
